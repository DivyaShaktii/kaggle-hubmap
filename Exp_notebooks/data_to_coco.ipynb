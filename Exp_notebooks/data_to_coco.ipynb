{
 "cells": [
  {
   "cell_type": "code",
   "execution_count": 1,
   "metadata": {},
   "outputs": [],
   "source": [
    "import json\n",
    "from pathlib import Path\n",
    "import os\n",
    "import shutil\n",
    "import cv2\n",
    "import itertools\n",
    "import numpy as np\n",
    "from typing import List, Dict\n",
    "from sklearn.model_selection import train_test_split"
   ]
  },
  {
   "cell_type": "code",
   "execution_count": 15,
   "metadata": {},
   "outputs": [],
   "source": [
    "DATA_DIR = Path('data/')"
   ]
  },
  {
   "cell_type": "code",
   "execution_count": 4,
   "metadata": {},
   "outputs": [
    {
     "data": {
      "text/plain": [
       "['sample_submission.csv',\n",
       " 'test',\n",
       " 'train',\n",
       " 'polygons.jsonl',\n",
       " 'tile_meta.csv',\n",
       " 'wsi_meta.csv']"
      ]
     },
     "execution_count": 4,
     "metadata": {},
     "output_type": "execute_result"
    }
   ],
   "source": [
    "os.listdir(\"data\")"
   ]
  },
  {
   "cell_type": "code",
   "execution_count": 6,
   "metadata": {},
   "outputs": [],
   "source": [
    "with open('data/polygons.jsonl' , 'r') as json_file :\n",
    "    json_list = list(json_file)\n",
    "    \n",
    "tiles_dicts = []\n",
    "for json_str in json_list:\n",
    "    tiles_dicts.append(json.loads(json_str))"
   ]
  },
  {
   "cell_type": "code",
   "execution_count": 17,
   "metadata": {},
   "outputs": [],
   "source": [
    "id_dict = {'blood_vessel': 0, 'glomerulus': 1, 'unsure': 2}"
   ]
  },
  {
   "cell_type": "code",
   "execution_count": 9,
   "metadata": {},
   "outputs": [],
   "source": [
    "# Function to copy images and transform labels to \n",
    "# coco formatted .txt files\n",
    "def tile_to_coco(tile: List[Dict], output_folder: Path):\n",
    "    tile_id = tile['id']    \n",
    "    \n",
    "    # Copy image\n",
    "    shutil.copyfile(DATA_DIR / f'train/{tile_id}.tif', output_folder / f'{tile_id}.tif')\n",
    "    \n",
    "    # Create text file and write formatted labels to it\n",
    "    with open(output_folder / f'{tile_id}.txt', 'w') as text_file:\n",
    "        for annotation in tile['annotations']:\n",
    "            \n",
    "            class_id = id_dict[annotation['type']]\n",
    "            flat_mask_polygon = list(itertools.chain(*annotation['coordinates'][0]))\n",
    "            # Divide by 512 because coco labels expect positions between 0 and 1\n",
    "            # not pixel indices\n",
    "            array = np.array(flat_mask_polygon)/512.\n",
    "            text_file.write(f'{class_id} {\" \".join(map(str, array))}\\n')\n",
    "            "
   ]
  },
  {
   "cell_type": "code",
   "execution_count": 10,
   "metadata": {},
   "outputs": [],
   "source": [
    "# Split into train and validation \n",
    "train_dicts, valid_dicts = train_test_split(tiles_dicts, test_size=0.2, random_state=42)"
   ]
  },
  {
   "cell_type": "code",
   "execution_count": 13,
   "metadata": {},
   "outputs": [],
   "source": [
    "os.mkdir('data/train_coco')\n",
    "os.mkdir('data/valid_coco')"
   ]
  },
  {
   "cell_type": "code",
   "execution_count": 18,
   "metadata": {},
   "outputs": [],
   "source": [
    "for train_dict in train_dicts: \n",
    "    tile_to_coco(train_dict, Path('data/train_coco'))\n",
    "for valid_dict in valid_dicts: \n",
    "    tile_to_coco(valid_dict, Path('data/valid_coco'))"
   ]
  },
  {
   "cell_type": "code",
   "execution_count": 19,
   "metadata": {},
   "outputs": [],
   "source": [
    "# Create a yaml file as expected by YOLOv7 (and others)\n",
    "yaml_text = \"\"\"\n",
    "# HuBMAP - Hacking the Human Vasculature dataset \n",
    "# https://www.kaggle.com/competitions/hubmap-hacking-the-human-vasculature\n",
    "\n",
    "\n",
    "# train and val data as 1) directory: path/images/, 2) file: path/images.txt, or 3) list: [path1/images/, path2/images/]\n",
    "train: /kaggle/input/hubmap-hhv-coco/train/\n",
    "val: /kaggle/input/hubmap-hhv-coco/valid/\n",
    "\n",
    "# class names\n",
    "names: \n",
    "  0: blood_vessel\n",
    "  1: glomerulus\n",
    "  2: unsure\n",
    "\"\"\"\n",
    "\n",
    "with open('data/hubmap-coco.yaml', 'w') as text_file:\n",
    "    text_file.write(yaml_text)"
   ]
  },
  {
   "cell_type": "code",
   "execution_count": null,
   "metadata": {},
   "outputs": [],
   "source": []
  }
 ],
 "metadata": {
  "kernelspec": {
   "display_name": "Python 3",
   "language": "python",
   "name": "python3"
  },
  "language_info": {
   "codemirror_mode": {
    "name": "ipython",
    "version": 3
   },
   "file_extension": ".py",
   "mimetype": "text/x-python",
   "name": "python",
   "nbconvert_exporter": "python",
   "pygments_lexer": "ipython3",
   "version": "3.6.9"
  }
 },
 "nbformat": 4,
 "nbformat_minor": 4
}
